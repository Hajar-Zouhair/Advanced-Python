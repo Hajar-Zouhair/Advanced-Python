{
  "cells": [
    {
      "cell_type": "markdown",
      "metadata": {
        "id": "wsQl5PfMNg2C"
      },
      "source": [
        "# Oriented Object Programming Exercices"
      ]
    },
    {
      "cell_type": "markdown",
      "metadata": {
        "id": "ELEoZ3h3Ng2H"
      },
      "source": [
        "## Exercice 1:\n",
        "\n",
        "- consedering the following code\n",
        "\n",
        "```python\n",
        "import datetime # we will use this for date objects\n",
        "\n",
        "class Person:\n",
        "\n",
        "    def __init__(self, name, surname, birthdate, address, telephone, email):\n",
        "        self.name = name\n",
        "        self.surname = surname\n",
        "        self.birthdate = birthdate\n",
        "\n",
        "        self.address = address\n",
        "        self.telephone = telephone\n",
        "        self.email = email\n",
        "\n",
        "    def age(self):\n",
        "        today = datetime.date.today()\n",
        "        age = today.year - self.birthdate.year\n",
        "\n",
        "        if today < datetime.date(today.year, self.birthdate.month, self.birthdate.day):\n",
        "            age -= 1\n",
        "\n",
        "        return age\n",
        "\n",
        "person = Person(\n",
        "    \"Jane\",\n",
        "    \"Doe\",\n",
        "    datetime.date(1992, 3, 12), # year, month, day\n",
        "    \"No. 12 Short Street, Greenville\",\n",
        "    \"555 456 0987\",\n",
        "    \"jane.doe@example.com\"\n",
        ")\n",
        "\n",
        "print(person.name)\n",
        "print(person.email)\n",
        "print(person.age())\n",
        "```\n",
        "Explain what the following variables refer to, and their scope:\n",
        "1. Person\n",
        "2. person\n",
        "3. surname\n",
        "4. self\n",
        "5. age (the function name)\n",
        "6. age (the variable used inside the function)\n",
        "7. self.email\n",
        "8. person.email"
      ]
    },
    {
      "cell_type": "markdown",
      "metadata": {
        "id": "WQBOPkZZNg2I"
      },
      "source": [
        "### write your answer here\n",
        "1.  Person is the class name\n",
        "2.  person is an isntance of the class Person\n",
        "3.  surname is the initial value of the attribute surname of the object class\n",
        "4.  self is a pointer to the Person object\n",
        "5.  age as a function defined inside the class is the name of a method\n",
        "6.  age inside the function age is the Person object's age\n",
        "7.  self.email reffers to the attribute of Person's object not yet constructed\n",
        "8.  person.email reffers to the attribute of the instance person constructed"
      ]
    },
    {
      "cell_type": "markdown",
      "metadata": {
        "id": "g5NNlKTaNg2I"
      },
      "source": [
        "## Exercise 2\n",
        "Create a Class with instance attributes. Write a Python program to create a Vehicle class with instance attributes:\n",
        " - max_speed\n",
        " - mileage"
      ]
    },
    {
      "cell_type": "code",
      "execution_count": 3,
      "metadata": {
        "id": "1Yz0XtUlNg2J"
      },
      "outputs": [],
      "source": [
        "class Vehicle:\n",
        "  def __init__(self, max_speed, mileage):\n",
        "    self.max_speed = max_speed\n",
        "    self.mileage = mileage"
      ]
    },
    {
      "cell_type": "markdown",
      "metadata": {
        "id": "YAs8GxyrNg2K"
      },
      "source": [
        "## Exercice 3\n",
        "\n",
        "Create a Vehicle class without any variables and methods"
      ]
    },
    {
      "cell_type": "code",
      "execution_count": 5,
      "metadata": {
        "id": "oWfL29SNNg2K"
      },
      "outputs": [],
      "source": [
        "class Vehicle:\n",
        "  \"this is the class Vehicle\""
      ]
    },
    {
      "cell_type": "markdown",
      "metadata": {
        "id": "a0TlzhZnNg2K"
      },
      "source": [
        "## Exercice 4\n",
        "\n",
        "Create a child class Bus that will inherit all of the variables and methods of the Vehicle class\n",
        "- Desired output:\n",
        "```Python\n",
        "#> Vehicle Name: School Volvo Speed: 180 Mileage: 12\n",
        "```"
      ]
    },
    {
      "cell_type": "code",
      "execution_count": 7,
      "metadata": {
        "colab": {
          "base_uri": "https://localhost:8080/"
        },
        "id": "QVxc3C85Ng2L",
        "outputId": "cf62cc43-ff3f-4a10-eb29-c4a955fe12cb"
      },
      "outputs": [
        {
          "output_type": "stream",
          "name": "stdout",
          "text": [
            "Vehicle Name: School Volvo Speed: 180 Mileage: 12\n",
            "\n"
          ]
        }
      ],
      "source": [
        "class Vehicle:\n",
        "  def __init__(self, name, max_speed, mileage):\n",
        "    self.name = name\n",
        "    self.max_speed = max_speed\n",
        "    self.mileage = mileage\n",
        "  def __str__(self):\n",
        "    return \"Vehicle Name: \"+self.name+\" Speed: \"+str(self.max_speed)+\" Mileage: \"+str(self.mileage)+\"\\n\"\n",
        "class Bus(Vehicle):\n",
        "  def __init__(self, name, max_speed, mileage):\n",
        "    super().__init__(name, max_speed, mileage)\n",
        "b = Bus(\"School Volvo\", 180, 12)\n",
        "print(b)"
      ]
    },
    {
      "cell_type": "markdown",
      "metadata": {
        "id": "W5k73KvDNg2L"
      },
      "source": [
        "## Exercice 5 (Class Inheritance)\n",
        "\n",
        "- Input\n",
        "Create a Bus class that inherits from the Vehicle class. Give the capacity argument of `Bus.seating_capacity()` a default value of 50.\n",
        "\n",
        "Use the following code for your parent Vehicle class.\n",
        "```Python\n",
        "class Vehicle:\n",
        "    def __init__(self, name, max_speed, mileage):\n",
        "        self.name = name\n",
        "        self.max_speed = max_speed\n",
        "        self.mileage = mileage\n",
        "\n",
        "    def seating_capacity(self, capacity):\n",
        "        return f\"The seating capacity of a {self.name} is {capacity} passengers\"\n",
        "```\n",
        "- Desired output:\n",
        "```Python\n",
        "#> The seating capacity of a bus is 50 passengers\n",
        "```"
      ]
    },
    {
      "cell_type": "code",
      "execution_count": 8,
      "metadata": {
        "colab": {
          "base_uri": "https://localhost:8080/"
        },
        "id": "c1vSq8_uNg2M",
        "outputId": "4c3dec21-17df-4355-cac2-181156a8ed0e"
      },
      "outputs": [
        {
          "output_type": "stream",
          "name": "stdout",
          "text": [
            "The seating capacity of a bus is 50 passengers\n"
          ]
        }
      ],
      "source": [
        "class Vehicle:\n",
        "    def __init__(self, name, max_speed, mileage):\n",
        "        self.name = name\n",
        "        self.max_speed = max_speed\n",
        "        self.mileage = mileage\n",
        "\n",
        "    def seating_capacity(self, capacity = 50):\n",
        "        return f\"The seating capacity of a {self.name} is {capacity} passengers\"\n",
        "class Bus (Vehicle):\n",
        "  def __init__(self, name, max_speed, mileage):\n",
        "    super().__init__(name, max_speed, mileage)\n",
        "b = Bus(\"bus\", 180, 12)\n",
        "print(b.seating_capacity())"
      ]
    },
    {
      "cell_type": "markdown",
      "metadata": {
        "id": "Enk1YaF7Ng2M"
      },
      "source": [
        "## Exercice 6\n",
        "\n",
        "Define a property that must have the same value for every class instance (object)\n",
        "\n",
        "Define a class attribute `\"color\"` with a default value white. I.e., Every Vehicle should be white.\n",
        "\n",
        "Use the following code for this exercise.\n",
        "\n",
        "```Python\n",
        "class Vehicle:\n",
        "\n",
        "    def __init__(self, name, max_speed, mileage):\n",
        "        self.name = name\n",
        "        self.max_speed = max_speed\n",
        "        self.mileage = mileage\n",
        "\n",
        "class Bus(Vehicle):\n",
        "    pass\n",
        "\n",
        "class Car(Vehicle):\n",
        "    pass\n",
        "```\n",
        "- Desiret output:\n",
        "```Python\n",
        "#> Color: White, Vehicle name: School Volvo, Speed: 180, Mileage: 12\n",
        "#> Color: White, Vehicle name: Audi Q5, Speed: 240, Mileage: 18\n",
        "```                "
      ]
    },
    {
      "cell_type": "code",
      "execution_count": 9,
      "metadata": {
        "colab": {
          "base_uri": "https://localhost:8080/"
        },
        "id": "QsMIiEjFNg2N",
        "outputId": "c23376f0-5f0d-4e74-b279-37712ab8ed0d"
      },
      "outputs": [
        {
          "output_type": "stream",
          "name": "stdout",
          "text": [
            "Color: White, Vehicle Name: School Volvo, Speed: 180, Mileage: 12\n",
            "\n",
            "Color: White, Vehicle Name: Audi Q5, Speed: 240, Mileage: 18\n",
            "\n"
          ]
        }
      ],
      "source": [
        "class Vehicle:\n",
        "    color = \"White\"\n",
        "    def __init__(self, name, max_speed, mileage):\n",
        "        self.name = name\n",
        "        self.max_speed = max_speed\n",
        "        self.mileage = mileage\n",
        "    def __str__(self):\n",
        "      return \"Color: \"+Vehicle.color+\", Vehicle Name: \"+self.name+\", Speed: \"+str(self.max_speed)+\", Mileage: \"+str(self.mileage)+\"\\n\"\n",
        "\n",
        "class Bus(Vehicle):\n",
        "    def __init__(self, name, max_speed, mileage):\n",
        "      super().__init__(name, max_speed, mileage)\n",
        "\n",
        "class Car(Vehicle):\n",
        "    def __init__(self, name, max_speed, mileage):\n",
        "      super().__init__(name, max_speed, mileage)\n",
        "\n",
        "b = Bus(\"School Volvo\", 180, 12)\n",
        "c = Car(\"Audi Q5\", 240, 18)\n",
        "print(b)\n",
        "print(c)"
      ]
    },
    {
      "cell_type": "markdown",
      "metadata": {
        "id": "kaIbpuVdNg2N"
      },
      "source": [
        "## Exercice 7  (Class Inheritance)\n",
        "- Input\n",
        "\n",
        "Create a Bus child class that inherits from the Vehicle class. The default fare charge of any vehicle is seating `capacity * 100`. If Vehicle is Bus instance, we need to add an extra 10% on full fare as a maintenance charge. So total fare for bus instance will become the `final amount = total fare + 10% of the total fare`.\n",
        "\n",
        "Note: The bus seating capacity is 50. so the final fare amount should be 5500. You need to override the fare() method of a Vehicle class in Bus class.\n",
        "\n",
        "Use the following code for your parent Vehicle class. We need to access the parent class from inside a method of a child class.\n",
        "```Python\n",
        "class Vehicle:\n",
        "    def __init__(self, name, mileage, capacity):\n",
        "        self.name = name\n",
        "        self.mileage = mileage\n",
        "        self.capacity = capacity\n",
        "\n",
        "    def fare(self):\n",
        "        return self.capacity * 100\n",
        "\n",
        "class Bus(Vehicle):\n",
        "    pass\n",
        "\n",
        "School_bus = Bus(\"School Volvo\", 12, 50)\n",
        "print(\"Total Bus fare is:\", School_bus.fare())\n",
        "```\n",
        "- Desired output:\n",
        "```Python\n",
        "#> Total Bus fare is: 5500.0\n",
        "```"
      ]
    },
    {
      "cell_type": "code",
      "execution_count": 11,
      "metadata": {
        "colab": {
          "base_uri": "https://localhost:8080/"
        },
        "id": "0GKLAFiANg2O",
        "outputId": "8096d3a1-03e1-4481-f224-cdf34ad52a79"
      },
      "outputs": [
        {
          "output_type": "stream",
          "name": "stdout",
          "text": [
            "Total Bus fare is: 5500\n"
          ]
        }
      ],
      "source": [
        "class Vehicle:\n",
        "    def __init__(self, name, mileage, capacity):\n",
        "        self.name = name\n",
        "        self.mileage = mileage\n",
        "        self.capacity = capacity\n",
        "\n",
        "    def fare(self):\n",
        "        return self.capacity * 100\n",
        "\n",
        "class Bus(Vehicle):\n",
        "    def __init__(self, name, mileage, capacity):\n",
        "        super().__init__(name, mileage, capacity)\n",
        "    def fare(self):\n",
        "      return self.capacity * 110\n",
        "School_bus = Bus(\"School Volvo\", 12, 50)\n",
        "print(\"Total Bus fare is:\", School_bus.fare())"
      ]
    },
    {
      "cell_type": "markdown",
      "metadata": {
        "id": "Fjk65eieNg2O"
      },
      "source": [
        "## Exercice 8  (Check type of an object)\n",
        "\n",
        "Write a program to determine which class a given Bus object belongs to.\n",
        "- Input\n",
        "```Python\n",
        "class Vehicle:\n",
        "    def __init__(self, name, mileage, capacity):\n",
        "        self.name = name\n",
        "        self.mileage = mileage\n",
        "        self.capacity = capacity\n",
        "```\n",
        "```Python\n",
        "class Bus(Vehicle):\n",
        "    pass\n",
        "School_bus = Bus(\"School Volvo\", 12, 50)\n",
        "```\n"
      ]
    },
    {
      "cell_type": "code",
      "execution_count": 12,
      "metadata": {
        "colab": {
          "base_uri": "https://localhost:8080/"
        },
        "id": "zh_Y4eSANg2P",
        "outputId": "79b02d50-961a-4f96-e9e4-a0291fac388e"
      },
      "outputs": [
        {
          "output_type": "execute_result",
          "data": {
            "text/plain": [
              "True"
            ]
          },
          "metadata": {},
          "execution_count": 12
        }
      ],
      "source": [
        "class Vehicle:\n",
        "  def __init__(self, name, mileage, capacity):\n",
        "      self.name = name\n",
        "      self.mileage = mileage\n",
        "      self.capacity = capacity\n",
        "class Bus(Vehicle):\n",
        "  pass\n",
        "School_bus = Bus(\"School Volvo\", 12, 50)\n",
        "isinstance(School_bus, Bus)"
      ]
    }
  ],
  "metadata": {
    "hide_input": false,
    "kernelspec": {
      "display_name": "Python 3",
      "language": "python",
      "name": "python3"
    },
    "language_info": {
      "codemirror_mode": {
        "name": "ipython",
        "version": 3
      },
      "file_extension": ".py",
      "mimetype": "text/x-python",
      "name": "python",
      "nbconvert_exporter": "python",
      "pygments_lexer": "ipython3",
      "version": "3.8.5"
    },
    "colab": {
      "provenance": []
    }
  },
  "nbformat": 4,
  "nbformat_minor": 0
}