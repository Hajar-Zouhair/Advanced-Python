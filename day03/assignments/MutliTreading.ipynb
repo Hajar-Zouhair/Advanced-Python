{
 "cells": [
  {
   "cell_type": "markdown",
   "id": "1d57264a",
   "metadata": {},
   "source": [
    "## 1. Simple Thread Creation\n",
    "\n",
    "Create a simple program that uses threading to print numbers from 1 to 5 in two separate threads."
   ]
  },
  {
   "cell_type": "code",
   "execution_count": 1,
   "id": "0fb3360f",
   "metadata": {},
   "outputs": [
    {
     "name": "stdout",
     "output_type": "stream",
     "text": [
      "1\n",
      "2\n",
      "3\n",
      "4\n",
      "5\n"
     ]
    }
   ],
   "source": [
    "from concurrent.futures import ThreadPoolExecutor\n",
    "with ThreadPoolExecutor(max_workers=2) as executer:\n",
    "     executer.map(print, [x for x in range (1, 6)])"
   ]
  },
  {
   "cell_type": "code",
   "execution_count": 26,
   "id": "5be6f747",
   "metadata": {},
   "outputs": [
    {
     "name": "stdout",
     "output_type": "stream",
     "text": [
      "1\n",
      "2\n",
      "3\n",
      "4\n",
      "5\n"
     ]
    }
   ],
   "source": [
    "from threading import Thread, Lock\n",
    "\n",
    "def task1():\n",
    "    for x in range(1, 3):\n",
    "        print(x)\n",
    "def task2():\n",
    "    for x in range(3, 6):\n",
    "        print(x)\n",
    "        \n",
    "t1 = Thread(target=task1)\n",
    "t2 = Thread(target=task2)\n",
    "\n",
    "t1.start()\n",
    "t2.start()\n",
    "\n",
    "t1.join()\n",
    "t2.join()"
   ]
  },
  {
   "cell_type": "markdown",
   "id": "a8d8ab14",
   "metadata": {},
   "source": [
    "## 2. Thread Synchronization\n",
    "\n",
    "Modify the program from Exercise 1 to use locks to synchronize the two threads and ensure that they print numbers alternately."
   ]
  },
  {
   "cell_type": "code",
   "execution_count": 86,
   "id": "7cc505fd",
   "metadata": {},
   "outputs": [
    {
     "name": "stdout",
     "output_type": "stream",
     "text": [
      "value: 1.0, du thread: 10236\n",
      "value: 2.0, du thread: 244\n",
      "value: 3.0, du thread: 10236\n",
      "value: 4.0, du thread: 244\n",
      "value: 5.0, du thread: 10236\n",
      "value: 6.0, du thread: 244\n"
     ]
    }
   ],
   "source": [
    "from threading import Thread, Lock\n",
    "from multiprocessing import Value\n",
    "\n",
    "# Fonction exécutée par chaque thread\n",
    "def task(i, flag, turn):\n",
    "    while int(i.value) < 6:\n",
    "        with flag:\n",
    "            # Si c'est le tour du thread actuel\n",
    "            if int(i.value) % 2 == turn:\n",
    "                # Obtient l'identifiant du thread actuel\n",
    "                current_thread = threading.current_thread()\n",
    "                \n",
    "                # Affiche la valeur actuelle et l'identifiant du thread\n",
    "                print(f\"va: {i.value}, du thread: {current_thread.ident}\")\n",
    "                \n",
    "                # Incrémente la valeur\n",
    "                i.value += 1\n",
    "\n",
    "if __name__ == '__main__':\n",
    "    # Initialisation de la valeur partagée, du Lock et du tour\n",
    "    i = Value('d', 1)\n",
    "    flag = Lock()\n",
    "    turn = 0\n",
    "\n",
    "    # Création des threads avec la fonction task et les arguments nécessaires\n",
    "    t1 = Thread(target=task, args=(i, flag, turn))\n",
    "    t2 = Thread(target=task, args=(i, flag, 1 - turn))\n",
    "\n",
    "    # Démarrage des threads\n",
    "    t1.start()\n",
    "    t2.start()\n",
    "\n",
    "    # Attente de la fin des threads\n",
    "    t1.join()\n",
    "    t2.join()\n"
   ]
  },
  {
   "cell_type": "markdown",
   "id": "8d45fee2",
   "metadata": {},
   "source": [
    "## 3. Thread Pooling\n",
    "\n",
    "Use the `concurrent.futures.ThreadPoolExecutor` module to create a thread pool and parallelize a task (e.g., calculating the square of numbers) among multiple threads.\n",
    "\n",
    "```python\n",
    "numbers = [1, 2, 3, 4, 5]\n",
    "```"
   ]
  },
  {
   "cell_type": "code",
   "execution_count": 65,
   "id": "0379e5e9",
   "metadata": {},
   "outputs": [
    {
     "name": "stdout",
     "output_type": "stream",
     "text": [
      "\n",
      "1\n",
      "\n",
      "4\n",
      "\n",
      "\n",
      "16\n",
      "\n",
      "25\n",
      "9\n"
     ]
    }
   ],
   "source": [
    "from concurrent.futures import ThreadPoolExecutor\n",
    "def sq(x):\n",
    "    print()\n",
    "    print(x**2) \n",
    "with ThreadPoolExecutor() as executer:\n",
    "     executer.map(sq, [t for t in range (1, 6)])"
   ]
  },
  {
   "cell_type": "markdown",
   "id": "aacf816a",
   "metadata": {},
   "source": [
    "## 4. Thread with Function Arguments\n",
    "\n",
    "```python\n",
    "\n",
    "import threading\n",
    "import time\n",
    "\n",
    "def print_hello():\n",
    "    for _ in range(5):\n",
    "        print(\"Hello, \", end='')\n",
    "        time.sleep(0.1)\n",
    "\n",
    "def print_world():\n",
    "    for _ in range(5):\n",
    "        print(\"World!\")\n",
    "        time.sleep(0.1)\n",
    "\n",
    "# Create two threads\n",
    "thread1 = threading.Thread(target=print_hello)\n",
    "thread2 = threading.Thread(target=print_world)\n",
    "\n",
    "# Start the threads\n",
    "thread1.start()\n",
    "thread2.start()\n",
    "\n",
    "# Wait for both threads to finish\n",
    "thread1.join()\n",
    "thread2.join()\n",
    "```\n",
    "\n",
    "Modify this program to pass an argument to the threads and print the thread's name along with the message."
   ]
  },
  {
   "cell_type": "code",
   "execution_count": 39,
   "id": "d7fd05ee",
   "metadata": {},
   "outputs": [
    {
     "name": "stdout",
     "output_type": "stream",
     "text": [
      "Hello,  thread1 is running.\n",
      "\n",
      "Hello,  thread1 is running.\n",
      "\n",
      "Hello,  thread1 is running.\n",
      "\n",
      "Hello,  thread1 is running.\n",
      "\n",
      "Hello,  thread1 is running.\n",
      "\n",
      "World! thread2 is running.\n",
      "\n",
      "World! thread2 is running.\n",
      "\n",
      "World! thread2 is running.\n",
      "\n",
      "World! thread2 is running.\n",
      "\n",
      "World! thread2 is running.\n",
      "\n"
     ]
    }
   ],
   "source": [
    "from threading import Thread, current_thread\n",
    "import time\n",
    "\n",
    "def print_hello(name):\n",
    "    for _ in range(5):\n",
    "        print(\"Hello, \", name,  \"is running.\\n\")\n",
    "        time.sleep(0.1)\n",
    "\n",
    "def print_world(name):\n",
    "    for _ in range(5):\n",
    "        print(\"World!\", name,  \"is running.\\n\")\n",
    "        time.sleep(0.1)\n",
    "\n",
    "# Create two threads\n",
    "thread1 = Thread(target=print_hello(\"thread1\"))\n",
    "thread2 = Thread(target=print_world(\"thread2\"))\n",
    "\n",
    "# Start the threads\n",
    "thread1.start()\n",
    "thread2.start()\n",
    "\n",
    "# Wait for both threads to finish\n",
    "thread1.join()\n",
    "thread2.join()"
   ]
  }
 ],
 "metadata": {
  "kernelspec": {
   "display_name": "Python 3 (ipykernel)",
   "language": "python",
   "name": "python3"
  },
  "language_info": {
   "codemirror_mode": {
    "name": "ipython",
    "version": 3
   },
   "file_extension": ".py",
   "mimetype": "text/x-python",
   "name": "python",
   "nbconvert_exporter": "python",
   "pygments_lexer": "ipython3",
   "version": "3.9.12"
  }
 },
 "nbformat": 4,
 "nbformat_minor": 5
}
